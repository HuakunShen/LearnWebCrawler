{
 "metadata": {
  "language_info": {
   "codemirror_mode": {
    "name": "ipython",
    "version": 3
   },
   "file_extension": ".py",
   "mimetype": "text/x-python",
   "name": "python",
   "nbconvert_exporter": "python",
   "pygments_lexer": "ipython3",
   "version": "3.8.5-final"
  },
  "orig_nbformat": 2,
  "kernelspec": {
   "name": "python38564bitwebcondaa978ffecd6e74eb787f670b018f16038",
   "display_name": "Python 3.8.5 64-bit ('web': conda)",
   "language": "python"
  }
 },
 "nbformat": 4,
 "nbformat_minor": 2,
 "cells": [
  {
   "cell_type": "code",
   "execution_count": 93,
   "metadata": {},
   "outputs": [],
   "source": [
    "import re\n",
    "import requests\n",
    "import numpy as np\n",
    "from tqdm import tqdm"
   ]
  },
  {
   "cell_type": "code",
   "execution_count": 9,
   "metadata": {},
   "outputs": [],
   "source": [
    "s = requests.session()"
   ]
  },
  {
   "cell_type": "code",
   "execution_count": 10,
   "metadata": {},
   "outputs": [],
   "source": [
    "s.headers.update({'User-Agent': 'PostmanRuntime/7.26.8'})"
   ]
  },
  {
   "cell_type": "code",
   "execution_count": 36,
   "metadata": {},
   "outputs": [
    {
     "output_type": "execute_result",
     "data": {
      "text/plain": [
       "50"
      ]
     },
     "metadata": {},
     "execution_count": 36
    }
   ],
   "source": [
    "data = s.get(\"https://www.zhihu.com/api/v4/members/ling-kou-leetcode/zvideos?offset=0&limit=100\").json()['data']"
   ]
  },
  {
   "cell_type": "code",
   "execution_count": 88,
   "metadata": {},
   "outputs": [],
   "source": [
    "def get_video_url(video):\n",
    "    playlist = video['video']['playlist']\n",
    "    playlist_keys = playlist.keys()\n",
    "    return playlist[list(playlist_keys)[np.argmax([playlist[res_type]['bitrate'] for res_type in playlist_keys])]]['play_url']"
   ]
  },
  {
   "cell_type": "code",
   "execution_count": 94,
   "metadata": {},
   "outputs": [
    {
     "output_type": "stream",
     "name": "stderr",
     "text": [
      "100%|██████████| 50/50 [12:52<00:00, 15.45s/it]\n"
     ]
    }
   ],
   "source": [
    "for d in tqdm(data):\n",
    "    video_data = s.get(get_video_url(d))\n",
    "    with open(f\"videos/{d['title']}\", \"wb\") as f:\n",
    "        f.write(video_data.content)"
   ]
  },
  {
   "cell_type": "code",
   "execution_count": 90,
   "metadata": {},
   "outputs": [],
   "source": []
  }
 ]
}